{
 "cells": [
  {
   "cell_type": "code",
   "execution_count": 110,
   "id": "1c84b067",
   "metadata": {},
   "outputs": [],
   "source": [
    "import numpy as np\n",
    "import pandas as pd\n",
    "from sklearn.preprocessing import MinMaxScaler\n",
    "from sklearn.model_selection import train_test_split\n",
    "import tensorflow as tf\n",
    "from tensorflow.keras.models import Sequential\n",
    "from tensorflow.keras.layers import LSTM, Dense, Dropout"
   ]
  },
  {
   "cell_type": "code",
   "execution_count": 111,
   "id": "44d64bc5",
   "metadata": {},
   "outputs": [],
   "source": [
    "df = pd.read_csv('Titan.csv')  # Replace with the actual file path\n",
    "\n",
    "# Remove whitespaces from column names\n",
    "df.columns = df.columns.str.strip()\n",
    "\n",
    "# Extracting relevant columns\n",
    "# Remove commas and convert to float\n",
    "df['close'] = df['close'].str.replace(',', '').astype(float)\n",
    "\n",
    "data = df[['close']].values.astype(float)\n",
    "\n",
    "# Normalize the data using Min-Max scaling\n",
    "scaler = MinMaxScaler(feature_range=(0, 1))\n",
    "data_normalized = scaler.fit_transform(data)"
   ]
  },
  {
   "cell_type": "code",
   "execution_count": 112,
   "id": "32a3c64b",
   "metadata": {},
   "outputs": [],
   "source": [
    "def create_dataset(dataset, time_steps=1):\n",
    "    X, y = [], []\n",
    "    for i in range(len(dataset) - time_steps):\n",
    "        a = dataset[i:(i + time_steps), 0]\n",
    "        X.append(a)\n",
    "        y.append(dataset[i + time_steps, 0])\n",
    "    return np.array(X), np.array(y)"
   ]
  },
  {
   "cell_type": "code",
   "execution_count": 113,
   "id": "cefd3cd5",
   "metadata": {},
   "outputs": [
    {
     "data": {
      "text/plain": [
       "((189, 60, 1), (189,))"
      ]
     },
     "execution_count": 113,
     "metadata": {},
     "output_type": "execute_result"
    }
   ],
   "source": [
    "time_steps = 60\n",
    "\n",
    "# Create the dataset\n",
    "X, y = create_dataset(data_normalized, time_steps)\n",
    "\n",
    "# Reshape input data to fit the model\n",
    "X = np.reshape(X, (X.shape[0], X.shape[1], 1))\n",
    "\n",
    "X.shape, y.shape"
   ]
  },
  {
   "cell_type": "code",
   "execution_count": 114,
   "id": "17db27dd",
   "metadata": {},
   "outputs": [
    {
     "name": "stdout",
     "output_type": "stream",
     "text": [
      "Epoch 1/50\n"
     ]
    },
    {
     "name": "stderr",
     "output_type": "stream",
     "text": [
      "2023-11-19 18:35:14.831623: I tensorflow/core/grappler/optimizers/custom_graph_optimizer_registry.cc:114] Plugin optimizer for device_type GPU is enabled.\n",
      "2023-11-19 18:35:14.976981: I tensorflow/core/grappler/optimizers/custom_graph_optimizer_registry.cc:114] Plugin optimizer for device_type GPU is enabled.\n",
      "2023-11-19 18:35:15.075090: I tensorflow/core/grappler/optimizers/custom_graph_optimizer_registry.cc:114] Plugin optimizer for device_type GPU is enabled.\n",
      "2023-11-19 18:35:15.288439: I tensorflow/core/grappler/optimizers/custom_graph_optimizer_registry.cc:114] Plugin optimizer for device_type GPU is enabled.\n",
      "2023-11-19 18:35:15.517723: I tensorflow/core/grappler/optimizers/custom_graph_optimizer_registry.cc:114] Plugin optimizer for device_type GPU is enabled.\n"
     ]
    },
    {
     "name": "stdout",
     "output_type": "stream",
     "text": [
      "6/6 [==============================] - 2s 108ms/step - loss: 0.1032\n",
      "Epoch 2/50\n",
      "6/6 [==============================] - 0s 48ms/step - loss: 0.0167\n",
      "Epoch 3/50\n",
      "6/6 [==============================] - 0s 36ms/step - loss: 0.0090\n",
      "Epoch 4/50\n",
      "6/6 [==============================] - 0s 26ms/step - loss: 0.0100\n",
      "Epoch 5/50\n",
      "6/6 [==============================] - 0s 19ms/step - loss: 0.0068\n",
      "Epoch 6/50\n",
      "6/6 [==============================] - 0s 20ms/step - loss: 0.0059\n",
      "Epoch 7/50\n",
      "6/6 [==============================] - 0s 22ms/step - loss: 0.0050\n",
      "Epoch 8/50\n",
      "6/6 [==============================] - 0s 29ms/step - loss: 0.0046\n",
      "Epoch 9/50\n",
      "6/6 [==============================] - 0s 23ms/step - loss: 0.0043\n",
      "Epoch 10/50\n",
      "6/6 [==============================] - 0s 20ms/step - loss: 0.0041\n",
      "Epoch 11/50\n",
      "6/6 [==============================] - 0s 21ms/step - loss: 0.0041\n",
      "Epoch 12/50\n",
      "6/6 [==============================] - 0s 20ms/step - loss: 0.0040\n",
      "Epoch 13/50\n",
      "6/6 [==============================] - 0s 21ms/step - loss: 0.0040\n",
      "Epoch 14/50\n",
      "6/6 [==============================] - 0s 21ms/step - loss: 0.0040\n",
      "Epoch 15/50\n",
      "6/6 [==============================] - 0s 18ms/step - loss: 0.0039\n",
      "Epoch 16/50\n",
      "6/6 [==============================] - 0s 18ms/step - loss: 0.0038\n",
      "Epoch 17/50\n",
      "6/6 [==============================] - 0s 21ms/step - loss: 0.0038\n",
      "Epoch 18/50\n",
      "6/6 [==============================] - 0s 18ms/step - loss: 0.0038\n",
      "Epoch 19/50\n",
      "6/6 [==============================] - 0s 19ms/step - loss: 0.0037\n",
      "Epoch 20/50\n",
      "6/6 [==============================] - 0s 19ms/step - loss: 0.0037\n",
      "Epoch 21/50\n",
      "6/6 [==============================] - 0s 18ms/step - loss: 0.0036\n",
      "Epoch 22/50\n",
      "6/6 [==============================] - 0s 18ms/step - loss: 0.0036\n",
      "Epoch 23/50\n",
      "6/6 [==============================] - 0s 20ms/step - loss: 0.0036\n",
      "Epoch 24/50\n",
      "6/6 [==============================] - 0s 19ms/step - loss: 0.0035\n",
      "Epoch 25/50\n",
      "6/6 [==============================] - 0s 19ms/step - loss: 0.0035\n",
      "Epoch 26/50\n",
      "6/6 [==============================] - 0s 19ms/step - loss: 0.0035\n",
      "Epoch 27/50\n",
      "6/6 [==============================] - 0s 22ms/step - loss: 0.0034\n",
      "Epoch 28/50\n",
      "6/6 [==============================] - 0s 19ms/step - loss: 0.0034\n",
      "Epoch 29/50\n",
      "6/6 [==============================] - 0s 19ms/step - loss: 0.0033\n",
      "Epoch 30/50\n",
      "6/6 [==============================] - 0s 19ms/step - loss: 0.0033\n",
      "Epoch 31/50\n",
      "6/6 [==============================] - 0s 18ms/step - loss: 0.0033\n",
      "Epoch 32/50\n",
      "6/6 [==============================] - 0s 19ms/step - loss: 0.0033\n",
      "Epoch 33/50\n",
      "6/6 [==============================] - 0s 18ms/step - loss: 0.0032\n",
      "Epoch 34/50\n",
      "6/6 [==============================] - 0s 20ms/step - loss: 0.0031\n",
      "Epoch 35/50\n",
      "6/6 [==============================] - 0s 19ms/step - loss: 0.0031\n",
      "Epoch 36/50\n",
      "6/6 [==============================] - 0s 18ms/step - loss: 0.0030\n",
      "Epoch 37/50\n",
      "6/6 [==============================] - 0s 19ms/step - loss: 0.0031\n",
      "Epoch 38/50\n",
      "6/6 [==============================] - 0s 20ms/step - loss: 0.0030\n",
      "Epoch 39/50\n",
      "6/6 [==============================] - 0s 21ms/step - loss: 0.0030\n",
      "Epoch 40/50\n",
      "6/6 [==============================] - 0s 20ms/step - loss: 0.0032\n",
      "Epoch 41/50\n",
      "6/6 [==============================] - 0s 19ms/step - loss: 0.0033\n",
      "Epoch 42/50\n",
      "6/6 [==============================] - 0s 20ms/step - loss: 0.0029\n",
      "Epoch 43/50\n",
      "6/6 [==============================] - 0s 19ms/step - loss: 0.0029\n",
      "Epoch 44/50\n",
      "6/6 [==============================] - 0s 17ms/step - loss: 0.0029\n",
      "Epoch 45/50\n",
      "6/6 [==============================] - 0s 18ms/step - loss: 0.0028\n",
      "Epoch 46/50\n",
      "6/6 [==============================] - 0s 19ms/step - loss: 0.0028\n",
      "Epoch 47/50\n",
      "6/6 [==============================] - 0s 18ms/step - loss: 0.0027\n",
      "Epoch 48/50\n",
      "6/6 [==============================] - 0s 18ms/step - loss: 0.0027\n",
      "Epoch 49/50\n",
      "6/6 [==============================] - 0s 17ms/step - loss: 0.0027\n",
      "Epoch 50/50\n",
      "6/6 [==============================] - 0s 19ms/step - loss: 0.0028\n"
     ]
    },
    {
     "data": {
      "text/plain": [
       "<keras.src.callbacks.History at 0x3f7ea9340>"
      ]
     },
     "execution_count": 114,
     "metadata": {},
     "output_type": "execute_result"
    }
   ],
   "source": [
    "# Build the LSTM model\n",
    "model = Sequential()\n",
    "model.add(LSTM(units=50, return_sequences=True, input_shape=(X.shape[1], 1)))\n",
    "model.add(LSTM(units=50))\n",
    "model.add(Dense(units=1))\n",
    "\n",
    "model.compile(optimizer='adam', loss='mean_squared_error')\n",
    "\n",
    "# Train the model on the entire dataset\n",
    "model.fit(X, y, epochs=50, batch_size=32)"
   ]
  },
  {
   "cell_type": "code",
   "execution_count": 115,
   "id": "3b61e780",
   "metadata": {
    "scrolled": true
   },
   "outputs": [
    {
     "name": "stdout",
     "output_type": "stream",
     "text": [
      "1/1 [==============================] - 1s 796ms/step\n",
      "Predicted Close Price of Titan for the next day: 2578.44287109375\n"
     ]
    },
    {
     "name": "stderr",
     "output_type": "stream",
     "text": [
      "2023-11-19 18:35:23.082404: I tensorflow/core/grappler/optimizers/custom_graph_optimizer_registry.cc:114] Plugin optimizer for device_type GPU is enabled.\n",
      "2023-11-19 18:35:23.129977: I tensorflow/core/grappler/optimizers/custom_graph_optimizer_registry.cc:114] Plugin optimizer for device_type GPU is enabled.\n",
      "2023-11-19 18:35:23.177369: I tensorflow/core/grappler/optimizers/custom_graph_optimizer_registry.cc:114] Plugin optimizer for device_type GPU is enabled.\n"
     ]
    }
   ],
   "source": [
    "last_data_points = data[-time_steps:]\n",
    "last_data_points_normalized = scaler.transform(last_data_points.reshape(-1, 1))\n",
    "\n",
    "# Reshape and predict\n",
    "input_data = np.reshape(last_data_points_normalized, (1, time_steps, 1))\n",
    "predicted_normalized = model.predict(input_data)\n",
    "\n",
    "# Inverse transform the predicted value\n",
    "predicted_close = scaler.inverse_transform(np.array([[predicted_normalized[0, 0]]]))\n",
    "titan_stock = predicted_close[0, 0]\n",
    "print(f\"Predicted Close Price of Titan for the next day: {titan_stock}\")"
   ]
  },
  {
   "cell_type": "code",
   "execution_count": 121,
   "id": "c2749858",
   "metadata": {},
   "outputs": [
    {
     "name": "stderr",
     "output_type": "stream",
     "text": [
      "WARNING:absl:At this time, the v2.11+ optimizer `tf.keras.optimizers.Adam` runs slowly on M1/M2 Macs, please use the legacy Keras optimizer instead, located at `tf.keras.optimizers.legacy.Adam`.\n",
      "WARNING:absl:`lr` is deprecated in Keras optimizer, please use `learning_rate` or use the legacy optimizer, e.g.,tf.keras.optimizers.legacy.Adam.\n",
      "WARNING:absl:There is a known slowdown when using v2.11+ Keras optimizers on M1/M2 Macs. Falling back to the legacy Keras optimizer, i.e., `tf.keras.optimizers.legacy.Adam`.\n"
     ]
    },
    {
     "name": "stdout",
     "output_type": "stream",
     "text": [
      "Epoch 1/50\n"
     ]
    },
    {
     "name": "stderr",
     "output_type": "stream",
     "text": [
      "2023-11-19 18:39:11.623826: I tensorflow/core/grappler/optimizers/custom_graph_optimizer_registry.cc:114] Plugin optimizer for device_type GPU is enabled.\n",
      "2023-11-19 18:39:11.767373: I tensorflow/core/grappler/optimizers/custom_graph_optimizer_registry.cc:114] Plugin optimizer for device_type GPU is enabled.\n",
      "2023-11-19 18:39:11.863421: I tensorflow/core/grappler/optimizers/custom_graph_optimizer_registry.cc:114] Plugin optimizer for device_type GPU is enabled.\n",
      "2023-11-19 18:39:12.058413: I tensorflow/core/grappler/optimizers/custom_graph_optimizer_registry.cc:114] Plugin optimizer for device_type GPU is enabled.\n"
     ]
    },
    {
     "name": "stdout",
     "output_type": "stream",
     "text": [
      "\r",
      "1/3 [=========>....................] - ETA: 2s - loss: 0.1921"
     ]
    },
    {
     "name": "stderr",
     "output_type": "stream",
     "text": [
      "2023-11-19 18:39:12.265652: I tensorflow/core/grappler/optimizers/custom_graph_optimizer_registry.cc:114] Plugin optimizer for device_type GPU is enabled.\n"
     ]
    },
    {
     "name": "stdout",
     "output_type": "stream",
     "text": [
      "3/3 [==============================] - 2s 152ms/step - loss: 0.1546\n",
      "Epoch 2/50\n",
      "3/3 [==============================] - 0s 97ms/step - loss: 0.0677\n",
      "Epoch 3/50\n",
      "3/3 [==============================] - 0s 55ms/step - loss: 0.0228\n",
      "Epoch 4/50\n",
      "3/3 [==============================] - 0s 51ms/step - loss: 0.0282\n",
      "Epoch 5/50\n",
      "3/3 [==============================] - 0s 34ms/step - loss: 0.0219\n",
      "Epoch 6/50\n",
      "3/3 [==============================] - 0s 29ms/step - loss: 0.0142\n",
      "Epoch 7/50\n",
      "3/3 [==============================] - 0s 23ms/step - loss: 0.0166\n",
      "Epoch 8/50\n",
      "3/3 [==============================] - 0s 27ms/step - loss: 0.0172\n",
      "Epoch 9/50\n",
      "3/3 [==============================] - 0s 23ms/step - loss: 0.0140\n",
      "Epoch 10/50\n",
      "3/3 [==============================] - 0s 21ms/step - loss: 0.0120\n",
      "Epoch 11/50\n",
      "3/3 [==============================] - 0s 22ms/step - loss: 0.0124\n",
      "Epoch 12/50\n",
      "3/3 [==============================] - 0s 23ms/step - loss: 0.0121\n",
      "Epoch 13/50\n",
      "3/3 [==============================] - 0s 23ms/step - loss: 0.0105\n",
      "Epoch 14/50\n",
      "3/3 [==============================] - 0s 25ms/step - loss: 0.0102\n",
      "Epoch 15/50\n",
      "3/3 [==============================] - 0s 31ms/step - loss: 0.0103\n",
      "Epoch 16/50\n",
      "3/3 [==============================] - 0s 19ms/step - loss: 0.0097\n",
      "Epoch 17/50\n",
      "3/3 [==============================] - 0s 26ms/step - loss: 0.0094\n",
      "Epoch 18/50\n",
      "3/3 [==============================] - 0s 28ms/step - loss: 0.0094\n",
      "Epoch 19/50\n",
      "3/3 [==============================] - 0s 21ms/step - loss: 0.0091\n",
      "Epoch 20/50\n",
      "3/3 [==============================] - 0s 18ms/step - loss: 0.0088\n",
      "Epoch 21/50\n",
      "3/3 [==============================] - 0s 21ms/step - loss: 0.0088\n",
      "Epoch 22/50\n",
      "3/3 [==============================] - 0s 19ms/step - loss: 0.0087\n",
      "Epoch 23/50\n",
      "3/3 [==============================] - 0s 23ms/step - loss: 0.0084\n",
      "Epoch 24/50\n",
      "3/3 [==============================] - 0s 19ms/step - loss: 0.0083\n",
      "Epoch 25/50\n",
      "3/3 [==============================] - 0s 30ms/step - loss: 0.0082\n",
      "Epoch 26/50\n",
      "3/3 [==============================] - 0s 20ms/step - loss: 0.0080\n",
      "Epoch 27/50\n",
      "3/3 [==============================] - 0s 41ms/step - loss: 0.0078\n",
      "Epoch 28/50\n",
      "3/3 [==============================] - 0s 19ms/step - loss: 0.0077\n",
      "Epoch 29/50\n",
      "3/3 [==============================] - 0s 23ms/step - loss: 0.0075\n",
      "Epoch 30/50\n",
      "3/3 [==============================] - 0s 18ms/step - loss: 0.0074\n",
      "Epoch 31/50\n",
      "3/3 [==============================] - 0s 34ms/step - loss: 0.0073\n",
      "Epoch 32/50\n",
      "3/3 [==============================] - 0s 23ms/step - loss: 0.0072\n",
      "Epoch 33/50\n",
      "3/3 [==============================] - 0s 21ms/step - loss: 0.0072\n",
      "Epoch 34/50\n",
      "3/3 [==============================] - 0s 21ms/step - loss: 0.0071\n",
      "Epoch 35/50\n",
      "3/3 [==============================] - 0s 24ms/step - loss: 0.0070\n",
      "Epoch 36/50\n",
      "3/3 [==============================] - 0s 22ms/step - loss: 0.0069\n",
      "Epoch 37/50\n",
      "3/3 [==============================] - 0s 20ms/step - loss: 0.0069\n",
      "Epoch 38/50\n",
      "3/3 [==============================] - 0s 19ms/step - loss: 0.0068\n",
      "Epoch 39/50\n",
      "3/3 [==============================] - 0s 22ms/step - loss: 0.0068\n",
      "Epoch 40/50\n",
      "3/3 [==============================] - 0s 22ms/step - loss: 0.0066\n",
      "Epoch 41/50\n",
      "3/3 [==============================] - 0s 20ms/step - loss: 0.0066\n",
      "Epoch 42/50\n",
      "3/3 [==============================] - 0s 27ms/step - loss: 0.0065\n",
      "Epoch 43/50\n",
      "3/3 [==============================] - 0s 18ms/step - loss: 0.0065\n",
      "Epoch 44/50\n",
      "3/3 [==============================] - 0s 21ms/step - loss: 0.0064\n",
      "Epoch 45/50\n",
      "3/3 [==============================] - 0s 19ms/step - loss: 0.0064\n",
      "Epoch 46/50\n",
      "3/3 [==============================] - 0s 24ms/step - loss: 0.0063\n",
      "Epoch 47/50\n",
      "3/3 [==============================] - 0s 24ms/step - loss: 0.0064\n",
      "Epoch 48/50\n",
      "3/3 [==============================] - 0s 24ms/step - loss: 0.0062\n",
      "Epoch 49/50\n",
      "3/3 [==============================] - 0s 18ms/step - loss: 0.0062\n",
      "Epoch 50/50\n",
      "3/3 [==============================] - 0s 20ms/step - loss: 0.0061\n"
     ]
    },
    {
     "name": "stderr",
     "output_type": "stream",
     "text": [
      "2023-11-19 18:39:16.814806: I tensorflow/core/grappler/optimizers/custom_graph_optimizer_registry.cc:114] Plugin optimizer for device_type GPU is enabled.\n",
      "2023-11-19 18:39:16.867408: I tensorflow/core/grappler/optimizers/custom_graph_optimizer_registry.cc:114] Plugin optimizer for device_type GPU is enabled.\n",
      "2023-11-19 18:39:16.944776: I tensorflow/core/grappler/optimizers/custom_graph_optimizer_registry.cc:114] Plugin optimizer for device_type GPU is enabled.\n"
     ]
    },
    {
     "name": "stdout",
     "output_type": "stream",
     "text": [
      "1/1 [==============================] - 0s 403ms/step\n",
      "Predicted Close Price of Apollo for the next day: 4597.9111328125\n"
     ]
    }
   ],
   "source": [
    "##Apollo\n",
    "df = pd.read_csv(\"Apollo.csv\")\n",
    "df.columns = df.columns.str.strip()\n",
    "\n",
    "# Extracting relevant columns\n",
    "# Remove commas and convert to float\n",
    "df['close'] = df['close'].str.replace(',', '').astype(float)\n",
    "\n",
    "data = df[['close']].values.astype(float)\n",
    "\n",
    "# Normalize the data using Min-Max scaling\n",
    "scaler = MinMaxScaler(feature_range=(0, 1))\n",
    "data_normalized = scaler.fit_transform(data)\n",
    "\n",
    "time_steps = 60\n",
    "\n",
    "# Create the dataset\n",
    "X, y = create_dataset(data_normalized, time_steps)\n",
    "\n",
    "# Reshape input data to fit the model\n",
    "X = np.reshape(X, (X.shape[0], X.shape[1], 1))\n",
    "\n",
    "model = Sequential()\n",
    "model.add(LSTM(units=50, return_sequences=True, input_shape=(X.shape[1], 1)))\n",
    "model.add(LSTM(units=50))\n",
    "model.add(Dense(units=1))\n",
    "\n",
    "model.compile(optimizer=tf.keras.optimizers.Adam(lr=0.01), loss='mean_squared_error')\n",
    "\n",
    "# Train the model on the entire dataset\n",
    "model.fit(X, y, epochs=50, batch_size=64)\n",
    "\n",
    "last_data_points = data[-time_steps:]\n",
    "last_data_points_normalized = scaler.transform(last_data_points.reshape(-1, 1))\n",
    "\n",
    "# Reshape and predict\n",
    "input_data = np.reshape(last_data_points_normalized, (1, time_steps, 1))\n",
    "predicted_normalized = model.predict(input_data)\n",
    "\n",
    "# Inverse transform the predicted value\n",
    "predicted_close = scaler.inverse_transform(np.array([[predicted_normalized[0, 0]]]))\n",
    "apollo_stock = predicted_close[0, 0]\n",
    "print(f\"Predicted Close Price of Apollo for the next day: {apollo_stock}\")"
   ]
  },
  {
   "cell_type": "code",
   "execution_count": 119,
   "id": "777cbb8e",
   "metadata": {
    "scrolled": true
   },
   "outputs": [
    {
     "name": "stderr",
     "output_type": "stream",
     "text": [
      "WARNING:absl:At this time, the v2.11+ optimizer `tf.keras.optimizers.Adam` runs slowly on M1/M2 Macs, please use the legacy Keras optimizer instead, located at `tf.keras.optimizers.legacy.Adam`.\n",
      "WARNING:absl:`lr` is deprecated in Keras optimizer, please use `learning_rate` or use the legacy optimizer, e.g.,tf.keras.optimizers.legacy.Adam.\n",
      "WARNING:absl:There is a known slowdown when using v2.11+ Keras optimizers on M1/M2 Macs. Falling back to the legacy Keras optimizer, i.e., `tf.keras.optimizers.legacy.Adam`.\n"
     ]
    },
    {
     "name": "stdout",
     "output_type": "stream",
     "text": [
      "Epoch 1/50\n"
     ]
    },
    {
     "name": "stderr",
     "output_type": "stream",
     "text": [
      "2023-11-19 18:38:38.215253: I tensorflow/core/grappler/optimizers/custom_graph_optimizer_registry.cc:114] Plugin optimizer for device_type GPU is enabled.\n",
      "2023-11-19 18:38:38.363622: I tensorflow/core/grappler/optimizers/custom_graph_optimizer_registry.cc:114] Plugin optimizer for device_type GPU is enabled.\n",
      "2023-11-19 18:38:38.470449: I tensorflow/core/grappler/optimizers/custom_graph_optimizer_registry.cc:114] Plugin optimizer for device_type GPU is enabled.\n",
      "2023-11-19 18:38:38.688291: I tensorflow/core/grappler/optimizers/custom_graph_optimizer_registry.cc:114] Plugin optimizer for device_type GPU is enabled.\n",
      "2023-11-19 18:38:38.913580: I tensorflow/core/grappler/optimizers/custom_graph_optimizer_registry.cc:114] Plugin optimizer for device_type GPU is enabled.\n"
     ]
    },
    {
     "name": "stdout",
     "output_type": "stream",
     "text": [
      "3/3 [==============================] - 2s 179ms/step - loss: 0.1713\n",
      "Epoch 2/50\n",
      "3/3 [==============================] - 0s 50ms/step - loss: 0.0353\n",
      "Epoch 3/50\n",
      "3/3 [==============================] - 0s 45ms/step - loss: 0.0343\n",
      "Epoch 4/50\n",
      "3/3 [==============================] - 0s 33ms/step - loss: 0.0269\n",
      "Epoch 5/50\n",
      "3/3 [==============================] - 0s 44ms/step - loss: 0.0134\n",
      "Epoch 6/50\n",
      "3/3 [==============================] - 0s 60ms/step - loss: 0.0188\n",
      "Epoch 7/50\n",
      "3/3 [==============================] - 0s 42ms/step - loss: 0.0197\n",
      "Epoch 8/50\n",
      "3/3 [==============================] - 0s 30ms/step - loss: 0.0152\n",
      "Epoch 9/50\n",
      "3/3 [==============================] - 0s 25ms/step - loss: 0.0116\n",
      "Epoch 10/50\n",
      "3/3 [==============================] - 0s 38ms/step - loss: 0.0125\n",
      "Epoch 11/50\n",
      "3/3 [==============================] - 0s 22ms/step - loss: 0.0125\n",
      "Epoch 12/50\n",
      "3/3 [==============================] - 0s 19ms/step - loss: 0.0105\n",
      "Epoch 13/50\n",
      "3/3 [==============================] - 0s 20ms/step - loss: 0.0099\n",
      "Epoch 14/50\n",
      "3/3 [==============================] - 0s 23ms/step - loss: 0.0100\n",
      "Epoch 15/50\n",
      "3/3 [==============================] - 0s 37ms/step - loss: 0.0095\n",
      "Epoch 16/50\n",
      "3/3 [==============================] - 0s 18ms/step - loss: 0.0088\n",
      "Epoch 17/50\n",
      "3/3 [==============================] - 0s 21ms/step - loss: 0.0087\n",
      "Epoch 18/50\n",
      "3/3 [==============================] - 0s 25ms/step - loss: 0.0084\n",
      "Epoch 19/50\n",
      "3/3 [==============================] - 0s 25ms/step - loss: 0.0081\n",
      "Epoch 20/50\n",
      "3/3 [==============================] - 0s 17ms/step - loss: 0.0078\n",
      "Epoch 21/50\n",
      "3/3 [==============================] - 0s 22ms/step - loss: 0.0076\n",
      "Epoch 22/50\n",
      "3/3 [==============================] - 0s 26ms/step - loss: 0.0073\n",
      "Epoch 23/50\n",
      "3/3 [==============================] - 0s 18ms/step - loss: 0.0071\n",
      "Epoch 24/50\n",
      "3/3 [==============================] - 0s 20ms/step - loss: 0.0068\n",
      "Epoch 25/50\n",
      "3/3 [==============================] - 0s 18ms/step - loss: 0.0065\n",
      "Epoch 26/50\n",
      "3/3 [==============================] - 0s 27ms/step - loss: 0.0063\n",
      "Epoch 27/50\n",
      "3/3 [==============================] - 0s 19ms/step - loss: 0.0060\n",
      "Epoch 28/50\n",
      "3/3 [==============================] - 0s 21ms/step - loss: 0.0058\n",
      "Epoch 29/50\n",
      "3/3 [==============================] - 0s 19ms/step - loss: 0.0056\n",
      "Epoch 30/50\n",
      "3/3 [==============================] - 0s 22ms/step - loss: 0.0055\n",
      "Epoch 31/50\n",
      "3/3 [==============================] - 0s 21ms/step - loss: 0.0054\n",
      "Epoch 32/50\n",
      "3/3 [==============================] - 0s 19ms/step - loss: 0.0055\n",
      "Epoch 33/50\n",
      "3/3 [==============================] - 0s 19ms/step - loss: 0.0054\n",
      "Epoch 34/50\n",
      "3/3 [==============================] - 0s 21ms/step - loss: 0.0053\n",
      "Epoch 35/50\n",
      "3/3 [==============================] - 0s 20ms/step - loss: 0.0053\n",
      "Epoch 36/50\n",
      "3/3 [==============================] - 0s 25ms/step - loss: 0.0052\n",
      "Epoch 37/50\n",
      "3/3 [==============================] - 0s 19ms/step - loss: 0.0053\n",
      "Epoch 38/50\n",
      "3/3 [==============================] - 0s 19ms/step - loss: 0.0053\n",
      "Epoch 39/50\n",
      "3/3 [==============================] - 0s 19ms/step - loss: 0.0050\n",
      "Epoch 40/50\n",
      "3/3 [==============================] - 0s 19ms/step - loss: 0.0052\n",
      "Epoch 41/50\n",
      "3/3 [==============================] - 0s 20ms/step - loss: 0.0050\n",
      "Epoch 42/50\n",
      "3/3 [==============================] - 0s 24ms/step - loss: 0.0050\n",
      "Epoch 43/50\n",
      "3/3 [==============================] - 0s 19ms/step - loss: 0.0050\n",
      "Epoch 44/50\n",
      "3/3 [==============================] - 0s 21ms/step - loss: 0.0049\n",
      "Epoch 45/50\n",
      "3/3 [==============================] - 0s 19ms/step - loss: 0.0050\n",
      "Epoch 46/50\n",
      "3/3 [==============================] - 0s 20ms/step - loss: 0.0048\n",
      "Epoch 47/50\n",
      "3/3 [==============================] - 0s 23ms/step - loss: 0.0048\n",
      "Epoch 48/50\n",
      "3/3 [==============================] - 0s 18ms/step - loss: 0.0047\n",
      "Epoch 49/50\n",
      "3/3 [==============================] - 0s 20ms/step - loss: 0.0047\n",
      "Epoch 50/50\n",
      "3/3 [==============================] - 0s 22ms/step - loss: 0.0047\n"
     ]
    },
    {
     "name": "stderr",
     "output_type": "stream",
     "text": [
      "2023-11-19 18:38:43.327283: I tensorflow/core/grappler/optimizers/custom_graph_optimizer_registry.cc:114] Plugin optimizer for device_type GPU is enabled.\n",
      "2023-11-19 18:38:43.378431: I tensorflow/core/grappler/optimizers/custom_graph_optimizer_registry.cc:114] Plugin optimizer for device_type GPU is enabled.\n",
      "2023-11-19 18:38:43.450774: I tensorflow/core/grappler/optimizers/custom_graph_optimizer_registry.cc:114] Plugin optimizer for device_type GPU is enabled.\n"
     ]
    },
    {
     "name": "stdout",
     "output_type": "stream",
     "text": [
      "1/1 [==============================] - 0s 400ms/step\n",
      "Predicted Close Price of Asian Paints for the next day: 3118.394287109375\n"
     ]
    }
   ],
   "source": [
    "##Asian Paints\n",
    "\n",
    "df = pd.read_csv(\"AP.csv\")\n",
    "df.columns = df.columns.str.strip()\n",
    "\n",
    "# Extracting relevant columns\n",
    "# Remove commas and convert to float\n",
    "df['close'] = df['close'].str.replace(',', '').astype(float)\n",
    "\n",
    "data = df[['close']].values.astype(float)\n",
    "\n",
    "# Normalize the data using Min-Max scaling\n",
    "scaler = MinMaxScaler(feature_range=(0, 1))\n",
    "data_normalized = scaler.fit_transform(data)\n",
    "\n",
    "time_steps = 60\n",
    "\n",
    "# Create the dataset\n",
    "X, y = create_dataset(data_normalized, time_steps)\n",
    "\n",
    "# Reshape input data to fit the model\n",
    "X = np.reshape(X, (X.shape[0], X.shape[1], 1))\n",
    "\n",
    "model = Sequential()\n",
    "model.add(LSTM(units=50, return_sequences=True, input_shape=(X.shape[1], 1)))\n",
    "model.add(LSTM(units=50))\n",
    "model.add(Dense(units=1))\n",
    "\n",
    "model.compile(optimizer=tf.keras.optimizers.Adam(lr=0.01), loss='mean_squared_error')\n",
    "\n",
    "# Train the model on the entire dataset\n",
    "model.fit(X, y, epochs=50, batch_size=64)\n",
    "\n",
    "last_data_points = data[-time_steps:]\n",
    "last_data_points_normalized = scaler.transform(last_data_points.reshape(-1, 1))\n",
    "\n",
    "# Reshape and predict\n",
    "input_data = np.reshape(last_data_points_normalized, (1, time_steps, 1))\n",
    "predicted_normalized = model.predict(input_data)\n",
    "\n",
    "# Inverse transform the predicted value\n",
    "predicted_close = scaler.inverse_transform(np.array([[predicted_normalized[0, 0]]]))\n",
    "asian_stock = predicted_close[0, 0]\n",
    "print(f\"Predicted Close Price of Asian Paints for the next day: {asian_stock}\")"
   ]
  },
  {
   "cell_type": "code",
   "execution_count": 125,
   "id": "4729c4a9",
   "metadata": {},
   "outputs": [
    {
     "name": "stdout",
     "output_type": "stream",
     "text": [
      "Collecting xlwt\n",
      "  Downloading xlwt-1.3.0-py2.py3-none-any.whl (99 kB)\n",
      "\u001b[2K     \u001b[90m━━━━━━━━━━━━━━━━━━━━━━━━━━━━━━━━━━━━━━━\u001b[0m \u001b[32m100.0/100.0 kB\u001b[0m \u001b[31m3.9 MB/s\u001b[0m eta \u001b[36m0:00:00\u001b[0m\n",
      "\u001b[?25hInstalling collected packages: xlwt\n",
      "Successfully installed xlwt-1.3.0\n"
     ]
    }
   ],
   "source": [
    "!pip install xlwt"
   ]
  },
  {
   "cell_type": "code",
   "execution_count": 128,
   "id": "da4b4953",
   "metadata": {},
   "outputs": [
    {
     "ename": "ValueError",
     "evalue": "No Excel writer 'xlwt'",
     "output_type": "error",
     "traceback": [
      "\u001b[0;31m---------------------------------------------------------------------------\u001b[0m",
      "\u001b[0;31mKeyError\u001b[0m                                  Traceback (most recent call last)",
      "File \u001b[0;32m~/miniconda/envs/course_repo/lib/python3.9/site-packages/pandas/io/excel/_util.py:91\u001b[0m, in \u001b[0;36mget_writer\u001b[0;34m(engine_name)\u001b[0m\n\u001b[1;32m     90\u001b[0m \u001b[38;5;28;01mtry\u001b[39;00m:\n\u001b[0;32m---> 91\u001b[0m     \u001b[38;5;28;01mreturn\u001b[39;00m \u001b[43m_writers\u001b[49m\u001b[43m[\u001b[49m\u001b[43mengine_name\u001b[49m\u001b[43m]\u001b[49m\n\u001b[1;32m     92\u001b[0m \u001b[38;5;28;01mexcept\u001b[39;00m \u001b[38;5;167;01mKeyError\u001b[39;00m \u001b[38;5;28;01mas\u001b[39;00m err:\n",
      "\u001b[0;31mKeyError\u001b[0m: 'xlwt'",
      "\nThe above exception was the direct cause of the following exception:\n",
      "\u001b[0;31mValueError\u001b[0m                                Traceback (most recent call last)",
      "Cell \u001b[0;32mIn[128], line 9\u001b[0m\n\u001b[1;32m      6\u001b[0m data \u001b[38;5;241m=\u001b[39m {\u001b[38;5;124m\"\u001b[39m\u001b[38;5;124mStock\u001b[39m\u001b[38;5;124m\"\u001b[39m : ticker_symbols, \u001b[38;5;124m\"\u001b[39m\u001b[38;5;124mPredicted Closing Price\u001b[39m\u001b[38;5;124m\"\u001b[39m : predicted_prices}\n\u001b[1;32m      7\u001b[0m df \u001b[38;5;241m=\u001b[39m pd\u001b[38;5;241m.\u001b[39mDataFrame(data)\n\u001b[0;32m----> 9\u001b[0m \u001b[43mdf\u001b[49m\u001b[38;5;241;43m.\u001b[39;49m\u001b[43mto_excel\u001b[49m\u001b[43m(\u001b[49m\u001b[38;5;124;43m'\u001b[39;49m\u001b[38;5;124;43mpredicted_closing_prices.xls\u001b[39;49m\u001b[38;5;124;43m'\u001b[39;49m\u001b[43m,\u001b[49m\u001b[43m \u001b[49m\u001b[43mindex\u001b[49m\u001b[38;5;241;43m=\u001b[39;49m\u001b[38;5;28;43;01mFalse\u001b[39;49;00m\u001b[43m,\u001b[49m\u001b[43m \u001b[49m\u001b[43mengine\u001b[49m\u001b[38;5;241;43m=\u001b[39;49m\u001b[38;5;124;43m'\u001b[39;49m\u001b[38;5;124;43mxlwt\u001b[39;49m\u001b[38;5;124;43m'\u001b[39;49m\u001b[43m)\u001b[49m\n",
      "File \u001b[0;32m~/miniconda/envs/course_repo/lib/python3.9/site-packages/pandas/core/generic.py:2252\u001b[0m, in \u001b[0;36mNDFrame.to_excel\u001b[0;34m(self, excel_writer, sheet_name, na_rep, float_format, columns, header, index, index_label, startrow, startcol, engine, merge_cells, inf_rep, freeze_panes, storage_options)\u001b[0m\n\u001b[1;32m   2239\u001b[0m \u001b[38;5;28;01mfrom\u001b[39;00m \u001b[38;5;21;01mpandas\u001b[39;00m\u001b[38;5;21;01m.\u001b[39;00m\u001b[38;5;21;01mio\u001b[39;00m\u001b[38;5;21;01m.\u001b[39;00m\u001b[38;5;21;01mformats\u001b[39;00m\u001b[38;5;21;01m.\u001b[39;00m\u001b[38;5;21;01mexcel\u001b[39;00m \u001b[38;5;28;01mimport\u001b[39;00m ExcelFormatter\n\u001b[1;32m   2241\u001b[0m formatter \u001b[38;5;241m=\u001b[39m ExcelFormatter(\n\u001b[1;32m   2242\u001b[0m     df,\n\u001b[1;32m   2243\u001b[0m     na_rep\u001b[38;5;241m=\u001b[39mna_rep,\n\u001b[0;32m   (...)\u001b[0m\n\u001b[1;32m   2250\u001b[0m     inf_rep\u001b[38;5;241m=\u001b[39minf_rep,\n\u001b[1;32m   2251\u001b[0m )\n\u001b[0;32m-> 2252\u001b[0m \u001b[43mformatter\u001b[49m\u001b[38;5;241;43m.\u001b[39;49m\u001b[43mwrite\u001b[49m\u001b[43m(\u001b[49m\n\u001b[1;32m   2253\u001b[0m \u001b[43m    \u001b[49m\u001b[43mexcel_writer\u001b[49m\u001b[43m,\u001b[49m\n\u001b[1;32m   2254\u001b[0m \u001b[43m    \u001b[49m\u001b[43msheet_name\u001b[49m\u001b[38;5;241;43m=\u001b[39;49m\u001b[43msheet_name\u001b[49m\u001b[43m,\u001b[49m\n\u001b[1;32m   2255\u001b[0m \u001b[43m    \u001b[49m\u001b[43mstartrow\u001b[49m\u001b[38;5;241;43m=\u001b[39;49m\u001b[43mstartrow\u001b[49m\u001b[43m,\u001b[49m\n\u001b[1;32m   2256\u001b[0m \u001b[43m    \u001b[49m\u001b[43mstartcol\u001b[49m\u001b[38;5;241;43m=\u001b[39;49m\u001b[43mstartcol\u001b[49m\u001b[43m,\u001b[49m\n\u001b[1;32m   2257\u001b[0m \u001b[43m    \u001b[49m\u001b[43mfreeze_panes\u001b[49m\u001b[38;5;241;43m=\u001b[39;49m\u001b[43mfreeze_panes\u001b[49m\u001b[43m,\u001b[49m\n\u001b[1;32m   2258\u001b[0m \u001b[43m    \u001b[49m\u001b[43mengine\u001b[49m\u001b[38;5;241;43m=\u001b[39;49m\u001b[43mengine\u001b[49m\u001b[43m,\u001b[49m\n\u001b[1;32m   2259\u001b[0m \u001b[43m    \u001b[49m\u001b[43mstorage_options\u001b[49m\u001b[38;5;241;43m=\u001b[39;49m\u001b[43mstorage_options\u001b[49m\u001b[43m,\u001b[49m\n\u001b[1;32m   2260\u001b[0m \u001b[43m\u001b[49m\u001b[43m)\u001b[49m\n",
      "File \u001b[0;32m~/miniconda/envs/course_repo/lib/python3.9/site-packages/pandas/io/formats/excel.py:934\u001b[0m, in \u001b[0;36mExcelFormatter.write\u001b[0;34m(self, writer, sheet_name, startrow, startcol, freeze_panes, engine, storage_options)\u001b[0m\n\u001b[1;32m    930\u001b[0m     need_save \u001b[38;5;241m=\u001b[39m \u001b[38;5;28;01mFalse\u001b[39;00m\n\u001b[1;32m    931\u001b[0m \u001b[38;5;28;01melse\u001b[39;00m:\n\u001b[1;32m    932\u001b[0m     \u001b[38;5;66;03m# error: Cannot instantiate abstract class 'ExcelWriter' with abstract\u001b[39;00m\n\u001b[1;32m    933\u001b[0m     \u001b[38;5;66;03m# attributes 'engine', 'save', 'supported_extensions' and 'write_cells'\u001b[39;00m\n\u001b[0;32m--> 934\u001b[0m     writer \u001b[38;5;241m=\u001b[39m \u001b[43mExcelWriter\u001b[49m\u001b[43m(\u001b[49m\u001b[43m  \u001b[49m\u001b[38;5;66;43;03m# type: ignore[abstract]\u001b[39;49;00m\n\u001b[1;32m    935\u001b[0m \u001b[43m        \u001b[49m\u001b[43mwriter\u001b[49m\u001b[43m,\u001b[49m\u001b[43m \u001b[49m\u001b[43mengine\u001b[49m\u001b[38;5;241;43m=\u001b[39;49m\u001b[43mengine\u001b[49m\u001b[43m,\u001b[49m\u001b[43m \u001b[49m\u001b[43mstorage_options\u001b[49m\u001b[38;5;241;43m=\u001b[39;49m\u001b[43mstorage_options\u001b[49m\n\u001b[1;32m    936\u001b[0m \u001b[43m    \u001b[49m\u001b[43m)\u001b[49m\n\u001b[1;32m    937\u001b[0m     need_save \u001b[38;5;241m=\u001b[39m \u001b[38;5;28;01mTrue\u001b[39;00m\n\u001b[1;32m    939\u001b[0m \u001b[38;5;28;01mtry\u001b[39;00m:\n",
      "File \u001b[0;32m~/miniconda/envs/course_repo/lib/python3.9/site-packages/pandas/io/excel/_base.py:1119\u001b[0m, in \u001b[0;36mExcelWriter.__new__\u001b[0;34m(cls, path, engine, date_format, datetime_format, mode, storage_options, if_sheet_exists, engine_kwargs)\u001b[0m\n\u001b[1;32m   1117\u001b[0m     \u001b[38;5;66;03m# for mypy\u001b[39;00m\n\u001b[1;32m   1118\u001b[0m     \u001b[38;5;28;01massert\u001b[39;00m engine \u001b[38;5;129;01mis\u001b[39;00m \u001b[38;5;129;01mnot\u001b[39;00m \u001b[38;5;28;01mNone\u001b[39;00m\n\u001b[0;32m-> 1119\u001b[0m     \u001b[38;5;28mcls\u001b[39m \u001b[38;5;241m=\u001b[39m \u001b[43mget_writer\u001b[49m\u001b[43m(\u001b[49m\u001b[43mengine\u001b[49m\u001b[43m)\u001b[49m\n\u001b[1;32m   1121\u001b[0m \u001b[38;5;28;01mreturn\u001b[39;00m \u001b[38;5;28mobject\u001b[39m\u001b[38;5;241m.\u001b[39m\u001b[38;5;21m__new__\u001b[39m(\u001b[38;5;28mcls\u001b[39m)\n",
      "File \u001b[0;32m~/miniconda/envs/course_repo/lib/python3.9/site-packages/pandas/io/excel/_util.py:93\u001b[0m, in \u001b[0;36mget_writer\u001b[0;34m(engine_name)\u001b[0m\n\u001b[1;32m     91\u001b[0m     \u001b[38;5;28;01mreturn\u001b[39;00m _writers[engine_name]\n\u001b[1;32m     92\u001b[0m \u001b[38;5;28;01mexcept\u001b[39;00m \u001b[38;5;167;01mKeyError\u001b[39;00m \u001b[38;5;28;01mas\u001b[39;00m err:\n\u001b[0;32m---> 93\u001b[0m     \u001b[38;5;28;01mraise\u001b[39;00m \u001b[38;5;167;01mValueError\u001b[39;00m(\u001b[38;5;124mf\u001b[39m\u001b[38;5;124m\"\u001b[39m\u001b[38;5;124mNo Excel writer \u001b[39m\u001b[38;5;124m'\u001b[39m\u001b[38;5;132;01m{\u001b[39;00mengine_name\u001b[38;5;132;01m}\u001b[39;00m\u001b[38;5;124m'\u001b[39m\u001b[38;5;124m\"\u001b[39m) \u001b[38;5;28;01mfrom\u001b[39;00m \u001b[38;5;21;01merr\u001b[39;00m\n",
      "\u001b[0;31mValueError\u001b[0m: No Excel writer 'xlwt'"
     ]
    }
   ],
   "source": [
    "#Converting into xls\n",
    "\n",
    "ticker_symbols = [\"TITAN\", \"APOLLOHOSP\", \"ASIANPAINT\"]\n",
    "predicted_prices = [titan_stock, apollo_stock, asian_stock]\n",
    "\n",
    "data = {\"Stock\" : ticker_symbols, \"Predicted Closing Price\" : predicted_prices}\n",
    "df = pd.DataFrame(data)\n",
    "\n",
    "df.to_excel('predicted_closing_prices.xls', index=False, engine='xlwt')"
   ]
  }
 ],
 "metadata": {
  "kernelspec": {
   "display_name": "Python 3 (ipykernel)",
   "language": "python",
   "name": "python3"
  },
  "language_info": {
   "codemirror_mode": {
    "name": "ipython",
    "version": 3
   },
   "file_extension": ".py",
   "mimetype": "text/x-python",
   "name": "python",
   "nbconvert_exporter": "python",
   "pygments_lexer": "ipython3",
   "version": "3.9.16"
  }
 },
 "nbformat": 4,
 "nbformat_minor": 5
}
